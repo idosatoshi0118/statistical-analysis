{
 "cells": [
  {
   "cell_type": "markdown",
   "metadata": {},
   "source": [
    "## 用語紹介\n",
    "・**セレクションバイアス**\n",
    "\n",
    "比較しているグループの潜在的な傾向(その他の要素)が違うことによって発生するバイアス。eg:メール配信の分析\n",
    "\n",
    "・**ポテンシャルアウトカムフレームワーク(Potential Outcome Framework)**\n",
    "\n",
    "介入が行われた結果γ1と行われなかった結果γ2があると考え、その差に介入の本当の効果があるという考え\n",
    "\n",
    "・**ポテンシャルアウトカム(Potential Outcome)**\n",
    "\n",
    "実際には観測されない側の結果のこと\n",
    "\n",
    "・**ATE(Average Treatment Effect, 平均処置効果)**\n",
    "\n",
    "母集団における介入を受けた場合の売り上げの平均と介入を受けなかった場合の売り上げの平均の差。これは効果とすると過剰に見積もる可能性がある\n",
    "\n",
    "$$\n",
    "    \\begin{align*}  \n",
    "    τ &= E[γ1] - E[γ0]\\\\\n",
    "    E[γ1] &= E[γ0]+ τ\n",
    "    \\end{align*}\n",
    "$$\n",
    "* ある変数(Z)をある値を取るときの、別の変数(γ)の期待値のことを条件付き期待値という\n",
    "* $E[γ1|Z = 1]$は Z = 1となるサンプルに限定した時のγ1の期待値ということ\n",
    "\n",
    "$$\n",
    "    \\begin{align*}\n",
    "    τ(naive)\\\\\n",
    "        &= E[γ1|Z = 1] - E[γ0|Z = 0]\\\\\n",
    "        &= E[γ1|Z = 1] - E[γ0|Z = 1] + E[γ0|Z = 1] - E[γ0|Z = 0]\\\\\n",
    "        &= E[γ1-γ0|Z = 1] (+ E[γ0|Z = 1] - E[γ0|Z = 0])←セレクションバイアス\\\\\n",
    "        &= E[γ1-γ0](本来の介入効果) + E[γ0|Z = 1] - E[γ0|Z = 0]\\\\\n",
    "    \\end{align*}\n",
    "$$ \n",
    "\"実際に介入が行われた際に介入が無かったとした場合の期待値を取ったもの\"から\"実際に介入が行われていなかった時の期待値\"を取ったものを差し引いている)\n",
    "\n",
    "メール配信効果のセレクションバイアスの例：\n",
    "$$\n",
    "    \\begin{align*}\n",
    "    τ(naive)\\\\\n",
    "        &= E[γ1-γ0](本来の介入効果) + E[γ0|Z = 1] - E[γ0|Z = 0]\\\\\n",
    "        &= (600 - 500) + (500) - (300)\\\\\n",
    "        &= 300(本来の効果100 + セレクションバイアス200)\\\\\n",
    "    \\end{align*}\n",
    "$$\n",
    "つまり、セレクションバイアスとはメールの配信対象者となるユーザと、配信対象者にならないユーザにおけるメールを受け取らないときの売り上げの違い。\\\n",
    "Z=1とZ＝0のグループで元々メールがなくても買う量に違いがあればセレクションバイアスは生まれる\n",
    "\n",
    "・**RCT(無作為比較試験, Randomized Controlled Trial)**\n",
    "\n",
    "施策の割り当てをランダムにし、介入が行われたグループと介入が行われていないグループの比較を可能にする。\"因果推論の根本問題\"を限りなく解消する。eg:ABテスト\n",
    "\n",
    "RCTは介入の割り当てをランダムにするため、$E[γ0|Z = 1] = E[γ0|Z = 0]$ となり、セレクションバイアスが0となる"
   ]
  },
  {
   "cell_type": "markdown",
   "metadata": {},
   "source": [
    "## RCTを行ったデータの準備"
   ]
  },
  {
   "cell_type": "code",
   "execution_count": null,
   "metadata": {},
   "outputs": [],
   "source": []
  }
 ],
 "metadata": {
  "kernelspec": {
   "display_name": "python38",
   "language": "python",
   "name": "python3"
  },
  "language_info": {
   "codemirror_mode": {
    "name": "ipython",
    "version": 3
   },
   "file_extension": ".py",
   "mimetype": "text/x-python",
   "name": "python",
   "nbconvert_exporter": "python",
   "pygments_lexer": "ipython3",
   "version": "3.8.16"
  },
  "orig_nbformat": 4,
  "vscode": {
   "interpreter": {
    "hash": "c919f66377084bbe5264acaad3227a0b6e2b7b31c717b6c23ee3b90ae87f6f0d"
   }
  }
 },
 "nbformat": 4,
 "nbformat_minor": 2
}
